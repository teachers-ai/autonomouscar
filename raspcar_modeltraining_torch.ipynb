{
  "cells": [
    {
      "cell_type": "code",
      "source": [
        "!git clone https://github.com/teachers-ai/autonomouscardata.git"
      ],
      "metadata": {
        "colab": {
          "base_uri": "https://localhost:8080/"
        },
        "id": "_SoTvGeOrmAb",
        "outputId": "f397db99-2a2f-4015-c2dc-f88ab60aa468"
      },
      "execution_count": null,
      "outputs": [
        {
          "output_type": "stream",
          "name": "stdout",
          "text": [
            "Cloning into 'autonomouscardata'...\n",
            "remote: Enumerating objects: 405, done.\u001b[K\n",
            "remote: Counting objects: 100% (6/6), done.\u001b[K\n",
            "remote: Compressing objects: 100% (4/4), done.\u001b[K\n",
            "remote: Total 405 (delta 0), reused 6 (delta 0), pack-reused 399 (from 1)\u001b[K\n",
            "Receiving objects: 100% (405/405), 485.63 MiB | 24.22 MiB/s, done.\n",
            "Updating files: 100% (399/399), done.\n"
          ]
        }
      ]
    },
    {
      "cell_type": "code",
      "execution_count": null,
      "metadata": {
        "colab": {
          "base_uri": "https://localhost:8080/"
        },
        "id": "Xa0_KTuPPaWU",
        "outputId": "8d954913-2e6d-4af3-838b-c4ac20837bbf"
      },
      "outputs": [
        {
          "output_type": "stream",
          "name": "stdout",
          "text": [
            "Drive already mounted at /content/drive/; to attempt to forcibly remount, call drive.mount(\"/content/drive/\", force_remount=True).\n"
          ]
        }
      ],
      "source": [
        "# prompt: write a code to read from google drive\n",
        "from google.colab import drive\n",
        "drive.mount('/content/drive/')\n",
        "root_path = 'drive/MyDrive/raspcar/hanuman/'\n"
      ]
    },
    {
      "cell_type": "code",
      "execution_count": null,
      "metadata": {
        "collapsed": true,
        "id": "gHvBYGC9P7W5"
      },
      "outputs": [],
      "source": []
    },
    {
      "cell_type": "code",
      "execution_count": null,
      "metadata": {
        "id": "JRelWBt-P7hP"
      },
      "outputs": [],
      "source": [
        "import os\n",
        "import pandas as pd\n",
        "from torchvision.io import read_image\n",
        "import torch\n",
        "from torch.utils.data import Dataset\n",
        "from torchvision import datasets\n",
        "from torchvision.transforms import ToTensor\n",
        "import matplotlib.pyplot as plt\n",
        "from torch.utils.data import DataLoader\n",
        "from PIL import Image\n",
        "import torch\n",
        "import torchvision\n",
        "import torchvision.transforms as transforms\n",
        "\n",
        "class CustomImageDataset(Dataset):\n",
        "    def __init__(self, root_path, transform=None):\n",
        "\n",
        "        self.root_path = root_path\n",
        "        self.transform = transform\n",
        "        self.image_files = os.listdir(root_path)\n",
        "        self.target = []\n",
        "        # Iterate over the files and plot them\n",
        "        for image_file in self.image_files:\n",
        "          # Read the image file\n",
        "          if  \"L\" in image_file :\n",
        "            y = 0\n",
        "          elif \"R\" in image_file:\n",
        "            y = 1\n",
        "          elif \"F\" in image_file:\n",
        "            y = 2\n",
        "          self.target.append(y)\n",
        "    def __len__(self):\n",
        "        return len(self.image_files)\n",
        "\n",
        "    def __getitem__(self, idx):\n",
        "        img_path = os.path.join(self.root_path, self.image_files[idx])\n",
        "        image = Image.open(img_path).resize((200, 50))\n",
        "        label = self.target[idx]\n",
        "        return self.transform(image), label"
      ]
    },
    {
      "cell_type": "code",
      "execution_count": null,
      "metadata": {
        "id": "ZYqwaOpoXPr6"
      },
      "outputs": [],
      "source": [
        "transform = transforms.Compose([\n",
        "    ToTensor(),\n",
        "    transforms.Normalize((0.5, 0.5, 0.5), (0.5, 0.5, 0.5)) # Normalize to [-1, 1]\n",
        "])"
      ]
    },
    {
      "cell_type": "code",
      "execution_count": null,
      "metadata": {
        "id": "zr4xvgvCP7od"
      },
      "outputs": [],
      "source": [
        "dataset = CustomImageDataset(root_path, transform=transform)"
      ]
    },
    {
      "cell_type": "code",
      "execution_count": null,
      "metadata": {
        "id": "8pmVbHfcP7wA"
      },
      "outputs": [],
      "source": [
        "train_dataloader = DataLoader(dataset, batch_size=64, shuffle=True)\n",
        "x,y =next(iter(train_dataloader))"
      ]
    },
    {
      "cell_type": "code",
      "execution_count": null,
      "metadata": {
        "id": "R9UGrFaebFBB"
      },
      "outputs": [],
      "source": []
    },
    {
      "cell_type": "code",
      "execution_count": null,
      "metadata": {
        "id": "WAg1S_rnPk3q"
      },
      "outputs": [],
      "source": [
        "import torch.nn as nn\n",
        "import torch.nn.functional as F\n",
        "\n",
        "\n",
        "class Net(nn.Module):\n",
        "    def __init__(self):\n",
        "        super().__init__()\n",
        "        self.conv1 = nn.Conv2d(3, 16, 3)\n",
        "        self.pool = nn.MaxPool2d(2, 2)\n",
        "        self.conv2 = nn.Conv2d(16, 32, 3)\n",
        "        self.fc1 = nn.Linear(16896, 120)\n",
        "        self.fc2 = nn.Linear(120, 84)\n",
        "        self.fc3 = nn.Linear(84, 3)\n",
        "\n",
        "    def forward(self, x):\n",
        "        x = self.pool(F.relu(self.conv1(x)))\n",
        "        x = self.pool(F.relu(self.conv2(x)))\n",
        "        x = torch.flatten(x, 1) # flatten all dimensions except batch\n",
        "        x = F.relu(self.fc1(x))\n",
        "        x = F.relu(self.fc2(x))\n",
        "        x = self.fc3(x)\n",
        "        return x\n",
        "\n",
        "\n",
        "net = Net()"
      ]
    },
    {
      "cell_type": "code",
      "execution_count": null,
      "metadata": {
        "colab": {
          "base_uri": "https://localhost:8080/"
        },
        "collapsed": true,
        "id": "sDKQOs5_hfUk",
        "outputId": "933bc06c-b3e4-4277-8446-4f247fe96b3b"
      },
      "outputs": [
        {
          "output_type": "execute_result",
          "data": {
            "text/plain": [
              "tensor([[0.0090, 0.1198, 0.0513],\n",
              "        [0.0066, 0.1153, 0.0446],\n",
              "        [0.0078, 0.1165, 0.0454],\n",
              "        [0.0062, 0.1277, 0.0538],\n",
              "        [0.0052, 0.1314, 0.0531],\n",
              "        [0.0029, 0.1269, 0.0484],\n",
              "        [0.0095, 0.1309, 0.0536],\n",
              "        [0.0050, 0.1228, 0.0437],\n",
              "        [0.0013, 0.1266, 0.0492],\n",
              "        [0.0055, 0.1284, 0.0529],\n",
              "        [0.0076, 0.1316, 0.0523],\n",
              "        [0.0066, 0.1253, 0.0498],\n",
              "        [0.0057, 0.1295, 0.0498],\n",
              "        [0.0041, 0.1268, 0.0475],\n",
              "        [0.0107, 0.1294, 0.0539],\n",
              "        [0.0025, 0.1299, 0.0507],\n",
              "        [0.0109, 0.1301, 0.0552],\n",
              "        [0.0099, 0.1289, 0.0531],\n",
              "        [0.0127, 0.1245, 0.0481],\n",
              "        [0.0099, 0.1230, 0.0454],\n",
              "        [0.0108, 0.1260, 0.0552],\n",
              "        [0.0120, 0.1204, 0.0484],\n",
              "        [0.0111, 0.1204, 0.0530],\n",
              "        [0.0016, 0.1296, 0.0501],\n",
              "        [0.0119, 0.1258, 0.0536],\n",
              "        [0.0118, 0.1230, 0.0511],\n",
              "        [0.0036, 0.1260, 0.0487],\n",
              "        [0.0058, 0.1228, 0.0557],\n",
              "        [0.0109, 0.1183, 0.0425],\n",
              "        [0.0043, 0.1298, 0.0506],\n",
              "        [0.0138, 0.1245, 0.0555],\n",
              "        [0.0009, 0.1294, 0.0507],\n",
              "        [0.0027, 0.1296, 0.0527],\n",
              "        [0.0061, 0.1323, 0.0524],\n",
              "        [0.0092, 0.1233, 0.0524],\n",
              "        [0.0080, 0.1279, 0.0535],\n",
              "        [0.0176, 0.1129, 0.0433],\n",
              "        [0.0069, 0.1234, 0.0411],\n",
              "        [0.0039, 0.1296, 0.0503],\n",
              "        [0.0104, 0.1200, 0.0416],\n",
              "        [0.0051, 0.1225, 0.0460],\n",
              "        [0.0108, 0.1249, 0.0526],\n",
              "        [0.0020, 0.1290, 0.0492],\n",
              "        [0.0053, 0.1306, 0.0531],\n",
              "        [0.0185, 0.1249, 0.0563],\n",
              "        [0.0075, 0.1269, 0.0521],\n",
              "        [0.0084, 0.1225, 0.0467],\n",
              "        [0.0072, 0.1233, 0.0493],\n",
              "        [0.0007, 0.1307, 0.0524],\n",
              "        [0.0096, 0.1275, 0.0519],\n",
              "        [0.0121, 0.1250, 0.0478],\n",
              "        [0.0075, 0.1290, 0.0537],\n",
              "        [0.0142, 0.1170, 0.0447],\n",
              "        [0.0055, 0.1294, 0.0531],\n",
              "        [0.0005, 0.1309, 0.0518],\n",
              "        [0.0119, 0.1254, 0.0528],\n",
              "        [0.0070, 0.1289, 0.0508],\n",
              "        [0.0110, 0.1237, 0.0500],\n",
              "        [0.0068, 0.1220, 0.0539],\n",
              "        [0.0036, 0.1278, 0.0511],\n",
              "        [0.0119, 0.1215, 0.0417],\n",
              "        [0.0072, 0.1243, 0.0418],\n",
              "        [0.0136, 0.1175, 0.0480],\n",
              "        [0.0076, 0.1289, 0.0512]], grad_fn=<AddmmBackward0>)"
            ]
          },
          "metadata": {},
          "execution_count": 63
        }
      ],
      "source": [
        "net(x)"
      ]
    },
    {
      "cell_type": "code",
      "execution_count": null,
      "metadata": {
        "id": "zxgPYrw0PzMl"
      },
      "outputs": [],
      "source": [
        "import torch.optim as optim\n",
        "criterion = nn.CrossEntropyLoss()\n",
        "optimizer = optim.Adam(net.parameters(), lr=0.001) # Use Adam optimizer"
      ]
    },
    {
      "cell_type": "code",
      "execution_count": null,
      "metadata": {
        "id": "i3Nw0d4OUkc5"
      },
      "outputs": [],
      "source": [
        "# prompt: write a function for model accuracy\n",
        "\n",
        "def model_accuracy(outputs, labels):\n",
        "    _, predicted = torch.max(outputs, 1)\n",
        "    correct = (predicted == labels).sum().item()\n",
        "    accuracy = correct / len(labels)\n",
        "    return accuracy\n"
      ]
    },
    {
      "cell_type": "code",
      "execution_count": null,
      "metadata": {
        "colab": {
          "base_uri": "https://localhost:8080/"
        },
        "collapsed": true,
        "id": "XVixjU5dP39E",
        "outputId": "3d8eaa8f-e4e4-47e3-e0f2-501ea89d9b76"
      },
      "outputs": [
        {
          "output_type": "stream",
          "name": "stdout",
          "text": [
            "Epoch 0, Accuracy: 0.7908163265306122\n",
            "Epoch 1, Accuracy: 0.8880739795918366\n",
            "Epoch 2, Accuracy: 0.8848852040816327\n",
            "Epoch 3, Accuracy: 0.9709821428571429\n",
            "Epoch 4, Accuracy: 0.9630102040816327\n",
            "Epoch 5, Accuracy: 0.9776785714285714\n",
            "Epoch 6, Accuracy: 0.9821428571428571\n",
            "Epoch 7, Accuracy: 0.9888392857142857\n",
            "Epoch 8, Accuracy: 0.9933035714285714\n",
            "Epoch 9, Accuracy: 0.9955357142857143\n",
            "Finished Training\n"
          ]
        }
      ],
      "source": [
        "for epoch in range(10):  # loop over the dataset multiple times\n",
        "\n",
        "    running_loss = 0.0\n",
        "    for i, data in enumerate(train_dataloader, 0):\n",
        "        # get the inputs; data is a list of [inputs, labels]\n",
        "        inputs, labels = data\n",
        "\n",
        "        # zero the parameter gradients\n",
        "        optimizer.zero_grad()\n",
        "\n",
        "        # forward + backward + optimize\n",
        "        outputs = net(inputs)\n",
        "        loss = criterion(outputs, labels)\n",
        "        loss.backward()\n",
        "        optimizer.step()\n",
        "        # print statistics\n",
        "        running_loss += loss.item()\n",
        "        if i % 2000 == 32:    # print every 2000 mini-batches\n",
        "            print(f'[{epoch + 1}, {i + 1:5d}] loss: {running_loss / 2000:.3f}')\n",
        "            running_loss = 0.0\n",
        "    # calc accuracy\n",
        "    with torch.no_grad():\n",
        "      accuracy =[]\n",
        "      for i, data in enumerate(train_dataloader, 0):\n",
        "        inputs, labels = data\n",
        "        optimizer.zero_grad()\n",
        "        outputs = net(inputs)\n",
        "        acc= model_accuracy(outputs, labels)\n",
        "        accuracy.append(acc)\n",
        "\n",
        "      print(f'Epoch {epoch}, Accuracy: {sum(accuracy)/len(accuracy)}')\n",
        "\n",
        "print('Finished Training')"
      ]
    },
    {
      "cell_type": "code",
      "execution_count": null,
      "metadata": {
        "id": "ymotqQZVdhKa"
      },
      "outputs": [],
      "source": [
        "model_scripted = torch.jit.script(net) # Export to TorchScript\n",
        "model_scripted.save('pt_model.pt')"
      ]
    },
    {
      "cell_type": "code",
      "source": [
        "model_new = torch.jit.load('pt_model.pt')\n",
        "model_new.eval()"
      ],
      "metadata": {
        "colab": {
          "base_uri": "https://localhost:8080/",
          "height": 108
        },
        "id": "nYrKI5PvTUN_",
        "outputId": "61a51b53-d4c1-47bb-bcb8-9971d5c45bcd"
      },
      "execution_count": null,
      "outputs": [
        {
          "output_type": "error",
          "ename": "SyntaxError",
          "evalue": "unterminated string literal (detected at line 3) (<ipython-input-71-0ec33b1b199c>, line 3)",
          "traceback": [
            "\u001b[0;36m  File \u001b[0;32m\"<ipython-input-71-0ec33b1b199c>\"\u001b[0;36m, line \u001b[0;32m3\u001b[0m\n\u001b[0;31m    print(f\" Accuracy: {sum(accuracy)/len(accuracy)}')\u001b[0m\n\u001b[0m          ^\u001b[0m\n\u001b[0;31mSyntaxError\u001b[0m\u001b[0;31m:\u001b[0m unterminated string literal (detected at line 3)\n"
          ]
        }
      ]
    },
    {
      "cell_type": "code",
      "execution_count": null,
      "metadata": {
        "colab": {
          "base_uri": "https://localhost:8080/"
        },
        "id": "F_QPZM8Ml9Rh",
        "outputId": "0d26f440-d80e-43d9-a96d-35b23620a44d"
      },
      "outputs": [
        {
          "output_type": "stream",
          "name": "stdout",
          "text": [
            " Accuracy: 0.9955357142857143\n"
          ]
        }
      ],
      "source": [
        "accuracy =[]\n",
        "for i, data in enumerate(train_dataloader, 0):\n",
        "  inputs, labels = data\n",
        "  outputs = model_new(inputs)\n",
        "  acc= model_accuracy(outputs, labels)\n",
        "  accuracy.append(acc)\n",
        "\n",
        "print(f\" Accuracy: {sum(accuracy)/len(accuracy)}\")"
      ]
    },
    {
      "cell_type": "code",
      "execution_count": null,
      "metadata": {
        "colab": {
          "base_uri": "https://localhost:8080/"
        },
        "id": "prQeyIwamW5i",
        "outputId": "4a35a673-dca3-4eea-939c-76ad32a445c3"
      },
      "outputs": [
        {
          "data": {
            "text/plain": [
              "torch.Size([14, 3, 50, 200])"
            ]
          },
          "execution_count": 208,
          "metadata": {},
          "output_type": "execute_result"
        }
      ],
      "source": [
        "data[0].shape"
      ]
    },
    {
      "cell_type": "code",
      "execution_count": null,
      "metadata": {
        "colab": {
          "base_uri": "https://localhost:8080/",
          "height": 144
        },
        "id": "xtgA0WGfnQ5t",
        "outputId": "eb4e7489-c7e5-49ab-d61e-37bafdd8614c"
      },
      "outputs": [
        {
          "ename": "NameError",
          "evalue": "name 'img_path' is not defined",
          "output_type": "error",
          "traceback": [
            "\u001b[0;31m---------------------------------------------------------------------------\u001b[0m",
            "\u001b[0;31mNameError\u001b[0m                                 Traceback (most recent call last)",
            "\u001b[0;32m<ipython-input-196-a31d728f248e>\u001b[0m in \u001b[0;36m<cell line: 0>\u001b[0;34m()\u001b[0m\n\u001b[0;32m----> 1\u001b[0;31m \u001b[0mimg_path\u001b[0m\u001b[0;34m\u001b[0m\u001b[0;34m\u001b[0m\u001b[0m\n\u001b[0m",
            "\u001b[0;31mNameError\u001b[0m: name 'img_path' is not defined"
          ]
        }
      ],
      "source": []
    },
    {
      "cell_type": "code",
      "execution_count": null,
      "metadata": {
        "id": "OS0XBAfDm7mA"
      },
      "outputs": [],
      "source": [
        "transform = transforms.Compose([\n",
        "    transforms.ToTensor(),\n",
        "    transforms.Normalize((0.5, 0.5, 0.5), (0.5, 0.5, 0.5)) # Normalize to [-1, 1]\n",
        "])\n",
        "#model = torch.load('hanuman1.pth', weights_only=False)\n",
        "\n",
        "#model.eval()\n",
        "\n",
        "image = Image.open(\"/content/drive/MyDrive/raspcar/hanuman/19_img_R.jpg\").resize((200, 50))\n",
        "image =transform(image).unsqueeze(0)\n",
        "_, predicted = torch.max(model(image), 1)\n"
      ]
    },
    {
      "cell_type": "code",
      "execution_count": null,
      "metadata": {
        "colab": {
          "base_uri": "https://localhost:8080/"
        },
        "id": "a8P2owCdn9Q4",
        "outputId": "32c53c0d-9003-4541-852f-e0c41aa04595"
      },
      "outputs": [
        {
          "output_type": "execute_result",
          "data": {
            "text/plain": [
              "1"
            ]
          },
          "metadata": {},
          "execution_count": 53
        }
      ],
      "source": [
        "predicted.item()\n"
      ]
    },
    {
      "cell_type": "code",
      "source": [
        "model = torch.jit.load('pt_model1.pt')\n",
        "model.eval()\n",
        "image = Image.open(\"/content/drive/MyDrive/raspcar/hanuman/19_img_R.jpg\").resize((200, 50))\n",
        "image =transform(image).unsqueeze(0)\n",
        "_, predicted = torch.max(model(image), 1)"
      ],
      "metadata": {
        "id": "3GfwhNrWRZew"
      },
      "execution_count": null,
      "outputs": []
    },
    {
      "cell_type": "code",
      "execution_count": null,
      "metadata": {
        "colab": {
          "base_uri": "https://localhost:8080/",
          "height": 341
        },
        "id": "FilNn9wUniiD",
        "outputId": "69da47f6-72f9-455a-d985-8b8b37f42dbe"
      },
      "outputs": [
        {
          "output_type": "error",
          "ename": "AttributeError",
          "evalue": "'Tensor' object has no attribute '__array_interface__'",
          "traceback": [
            "\u001b[0;31m---------------------------------------------------------------------------\u001b[0m",
            "\u001b[0;31mAttributeError\u001b[0m                            Traceback (most recent call last)",
            "\u001b[0;32m<ipython-input-54-4ffbf305c775>\u001b[0m in \u001b[0;36m<cell line: 0>\u001b[0;34m()\u001b[0m\n\u001b[1;32m      6\u001b[0m \u001b[0;34m\u001b[0m\u001b[0m\n\u001b[1;32m      7\u001b[0m \u001b[0mmodel\u001b[0m\u001b[0;34m.\u001b[0m\u001b[0meval\u001b[0m\u001b[0;34m(\u001b[0m\u001b[0;34m)\u001b[0m\u001b[0;34m\u001b[0m\u001b[0;34m\u001b[0m\u001b[0m\n\u001b[0;32m----> 8\u001b[0;31m \u001b[0mimage\u001b[0m \u001b[0;34m=\u001b[0m\u001b[0mImage\u001b[0m\u001b[0;34m.\u001b[0m\u001b[0mfromarray\u001b[0m\u001b[0;34m(\u001b[0m\u001b[0mimage\u001b[0m\u001b[0;34m)\u001b[0m\u001b[0;34m.\u001b[0m\u001b[0mresize\u001b[0m\u001b[0;34m(\u001b[0m\u001b[0;34m(\u001b[0m\u001b[0;36m200\u001b[0m\u001b[0;34m,\u001b[0m \u001b[0;36m50\u001b[0m\u001b[0;34m)\u001b[0m\u001b[0;34m)\u001b[0m\u001b[0;34m\u001b[0m\u001b[0;34m\u001b[0m\u001b[0m\n\u001b[0m\u001b[1;32m      9\u001b[0m \u001b[0mimage\u001b[0m \u001b[0;34m=\u001b[0m\u001b[0mtransform\u001b[0m\u001b[0;34m(\u001b[0m\u001b[0mimage\u001b[0m\u001b[0;34m)\u001b[0m\u001b[0;34m.\u001b[0m\u001b[0munsqueeze\u001b[0m\u001b[0;34m(\u001b[0m\u001b[0;36m0\u001b[0m\u001b[0;34m)\u001b[0m\u001b[0;34m\u001b[0m\u001b[0;34m\u001b[0m\u001b[0m\n\u001b[1;32m     10\u001b[0m \u001b[0m_\u001b[0m\u001b[0;34m,\u001b[0m \u001b[0mpredicted\u001b[0m \u001b[0;34m=\u001b[0m \u001b[0mtorch\u001b[0m\u001b[0;34m.\u001b[0m\u001b[0mmax\u001b[0m\u001b[0;34m(\u001b[0m\u001b[0mmodel\u001b[0m\u001b[0;34m(\u001b[0m\u001b[0mimage\u001b[0m\u001b[0;34m)\u001b[0m\u001b[0;34m,\u001b[0m \u001b[0;36m1\u001b[0m\u001b[0;34m)\u001b[0m\u001b[0;34m\u001b[0m\u001b[0;34m\u001b[0m\u001b[0m\n",
            "\u001b[0;32m/usr/local/lib/python3.11/dist-packages/PIL/Image.py\u001b[0m in \u001b[0;36mfromarray\u001b[0;34m(obj, mode)\u001b[0m\n\u001b[1;32m   3298\u001b[0m     \u001b[0;34m.\u001b[0m\u001b[0;34m.\u001b[0m \u001b[0mversionadded\u001b[0m\u001b[0;34m:\u001b[0m\u001b[0;34m:\u001b[0m \u001b[0;36m1.1\u001b[0m\u001b[0;36m.6\u001b[0m\u001b[0;34m\u001b[0m\u001b[0;34m\u001b[0m\u001b[0m\n\u001b[1;32m   3299\u001b[0m     \"\"\"\n\u001b[0;32m-> 3300\u001b[0;31m     \u001b[0marr\u001b[0m \u001b[0;34m=\u001b[0m \u001b[0mobj\u001b[0m\u001b[0;34m.\u001b[0m\u001b[0m__array_interface__\u001b[0m\u001b[0;34m\u001b[0m\u001b[0;34m\u001b[0m\u001b[0m\n\u001b[0m\u001b[1;32m   3301\u001b[0m     \u001b[0mshape\u001b[0m \u001b[0;34m=\u001b[0m \u001b[0marr\u001b[0m\u001b[0;34m[\u001b[0m\u001b[0;34m\"shape\"\u001b[0m\u001b[0;34m]\u001b[0m\u001b[0;34m\u001b[0m\u001b[0;34m\u001b[0m\u001b[0m\n\u001b[1;32m   3302\u001b[0m     \u001b[0mndim\u001b[0m \u001b[0;34m=\u001b[0m \u001b[0mlen\u001b[0m\u001b[0;34m(\u001b[0m\u001b[0mshape\u001b[0m\u001b[0;34m)\u001b[0m\u001b[0;34m\u001b[0m\u001b[0;34m\u001b[0m\u001b[0m\n",
            "\u001b[0;31mAttributeError\u001b[0m: 'Tensor' object has no attribute '__array_interface__'"
          ]
        }
      ],
      "source": [
        "transform = transforms.Compose([\n",
        "    transforms.ToTensor(),\n",
        "    transforms.Normalize((0.5, 0.5, 0.5), (0.5, 0.5, 0.5)) # Normalize to [-1, 1]\n",
        "])\n",
        "\n",
        "\n",
        "model.eval()\n",
        "image =Image.fromarray(image).resize((200, 50))\n",
        "image =transform(image).unsqueeze(0)\n",
        "_, predicted = torch.max(model(image), 1)\n",
        "if predicted.item() == 0:\n",
        "  print(\"Left\")\n",
        "elif predicted.item() == 1:\n",
        "  print(\"Right\")\n",
        "elif predicted.item() == 2:\n",
        "  print(\"Forward\")"
      ]
    },
    {
      "cell_type": "code",
      "execution_count": null,
      "metadata": {
        "id": "-bc7fx6fno4V"
      },
      "outputs": [],
      "source": [
        "image = cv2.imread(\"/content/drive/MyDrive/raspcar/hanuman/19_img_R.jpg\")"
      ]
    },
    {
      "cell_type": "code",
      "source": [],
      "metadata": {
        "colab": {
          "base_uri": "https://localhost:8080/",
          "height": 67
        },
        "id": "-nRlsS3KMNmC",
        "outputId": "c984dee6-6c56-4730-e7ea-d3041cad54b4"
      },
      "execution_count": null,
      "outputs": [
        {
          "output_type": "execute_result",
          "data": {
            "text/plain": [
              "<PIL.Image.Image image mode=RGB size=200x50>"
            ],
            "image/png": "[encoded data removed]",
            "image/jpeg": "[encoded data removed]"
          },
          "metadata": {},
          "execution_count": 43
        }
      ]
    },
    {
      "cell_type": "code",
      "source": [],
      "metadata": {
        "id": "pgwaKTwNMPWD"
      },
      "execution_count": null,
      "outputs": []
    },
    {
      "cell_type": "code",
      "source": [],
      "metadata": {
        "colab": {
          "base_uri": "https://localhost:8080/"
        },
        "id": "SG8vV0ddMmuH",
        "outputId": "e8933a12-fe51-4199-fc6d-ddec46b4ed05"
      },
      "execution_count": null,
      "outputs": [
        {
          "output_type": "execute_result",
          "data": {
            "text/plain": [
              "RecursiveScriptModule(\n",
              "  original_name=Net\n",
              "  (conv1): RecursiveScriptModule(original_name=Conv2d)\n",
              "  (pool): RecursiveScriptModule(original_name=MaxPool2d)\n",
              "  (conv2): RecursiveScriptModule(original_name=Conv2d)\n",
              "  (fc1): RecursiveScriptModule(original_name=Linear)\n",
              "  (fc2): RecursiveScriptModule(original_name=Linear)\n",
              "  (fc3): RecursiveScriptModule(original_name=Linear)\n",
              ")"
            ]
          },
          "metadata": {},
          "execution_count": 46
        }
      ]
    },
    {
      "cell_type": "code",
      "source": [],
      "metadata": {
        "id": "s5JBCpCjRHvW"
      },
      "execution_count": null,
      "outputs": []
    }
  ],
  "metadata": {
    "colab": {
      "provenance": []
    },
    "kernelspec": {
      "display_name": "Python 3",
      "name": "python3"
    },
    "language_info": {
      "name": "python"
    }
  },
  "nbformat": 4,
  "nbformat_minor": 0
}